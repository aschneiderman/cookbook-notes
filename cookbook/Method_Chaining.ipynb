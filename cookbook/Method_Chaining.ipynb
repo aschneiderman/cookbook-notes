{
 "cells": [
  {
   "cell_type": "markdown",
   "id": "cf82348d",
   "metadata": {},
   "source": [
    "# Method Chaining"
   ]
  },
  {
   "cell_type": "markdown",
   "id": "ed653a10",
   "metadata": {},
   "source": [
    "Method chaining is a way of writing pandas code that is not only more readable but also eats up less memory and runs faster (I think).\n",
    "\n",
    "Here's an example:"
   ]
  },
  {
   "cell_type": "code",
   "execution_count": null,
   "id": "df0e3158",
   "metadata": {},
   "outputs": [],
   "source": [
    "(autos\n",
    "[cols]\n",
    ".astype( {'highway': 'int8', 'number_gears': 'int8'})\n",
    ".select_dtypes(int,'int8')\n",
    ".describe\n",
    ")\n"
   ]
  },
  {
   "cell_type": "markdown",
   "id": "a9504eba",
   "metadata": {},
   "source": [
    "Junk drawer:"
   ]
  },
  {
   "cell_type": "code",
   "execution_count": null,
   "id": "376986f0",
   "metadata": {},
   "outputs": [],
   "source": [
    "\n",
    "\n",
    ".assign\n",
    "drive=autos.drive.fillna('Other').astype('Category'),\n",
    "automatic=auto.trany.str.contains('Auto')\n",
    "\n",
    ".str.extract(r'(\\d)+').fillna('20').astype('int8')\n",
    ".drop(columns=['bla'])\n",
    "\n",
    "\n",
    "# if:\n",
    ".assign(country=np.select(cond,true,false)\n"
   ]
  },
  {
   "cell_type": "markdown",
   "id": "ebdb6b08",
   "metadata": {},
   "source": [
    "to debug it: can easily comment out lines"
   ]
  },
  {
   "cell_type": "markdown",
   "id": "c7e9edc9",
   "metadata": {},
   "source": [
    "### To Research"
   ]
  },
  {
   "cell_type": "markdown",
   "id": "8b9ae944",
   "metadata": {},
   "source": [
    "\n",
    "using .pipe?  \n"
   ]
  },
  {
   "cell_type": "markdown",
   "id": "62bb0994",
   "metadata": {},
   "source": [
    "proper pandas -- eg chaining:\n",
    "https://youtu.be/UURvPeczxJI\n",
    "\n",
    "Using Pandas method chaining to improve code readability\n",
    "https://github.com/BindiChen/machine-learning/blob/master/data-analysis/007-method-chaining/method-chaining.ipynb\n",
    "\n",
    "Assign and chaining\n",
    "https://www.metasnake.com/blog/pydata-assign.html"
   ]
  },
  {
   "cell_type": "code",
   "execution_count": null,
   "id": "e036d78e",
   "metadata": {},
   "outputs": [],
   "source": []
  }
 ],
 "metadata": {
  "kernelspec": {
   "display_name": "Python 3",
   "language": "python",
   "name": "python3"
  },
  "language_info": {
   "codemirror_mode": {
    "name": "ipython",
    "version": 3
   },
   "file_extension": ".py",
   "mimetype": "text/x-python",
   "name": "python",
   "nbconvert_exporter": "python",
   "pygments_lexer": "ipython3",
   "version": "3.8.8"
  }
 },
 "nbformat": 4,
 "nbformat_minor": 5
}
