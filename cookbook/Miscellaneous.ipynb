{
 "cells": [
  {
   "cell_type": "markdown",
   "id": "595513d2",
   "metadata": {},
   "source": [
    "# Miscellaneous"
   ]
  },
  {
   "cell_type": "markdown",
   "id": "001bd485",
   "metadata": {},
   "source": [
    "## Custom CSS"
   ]
  },
  {
   "cell_type": "markdown",
   "id": "69fe1bb0",
   "metadata": {},
   "source": [
    "If you want custom CSS that runs on your box, here's how you do it:\n",
    "\n",
    "The location for \"Anaconda3 , Windows10, Everyone to Access\" is c:\\programData\\Anaconda3\\Lib\\site-packages\\notebook\\static\\custom\\custom.css\n",
    "\n",
    "We may look for ~/.jupyter/custom/custom.css \n"
   ]
  },
  {
   "cell_type": "code",
   "execution_count": null,
   "id": "4dea6085",
   "metadata": {},
   "outputs": [],
   "source": []
  }
 ],
 "metadata": {
  "kernelspec": {
   "display_name": "Python 3",
   "language": "python",
   "name": "python3"
  },
  "language_info": {
   "codemirror_mode": {
    "name": "ipython",
    "version": 3
   },
   "file_extension": ".py",
   "mimetype": "text/x-python",
   "name": "python",
   "nbconvert_exporter": "python",
   "pygments_lexer": "ipython3",
   "version": "3.8.8"
  }
 },
 "nbformat": 4,
 "nbformat_minor": 5
}
