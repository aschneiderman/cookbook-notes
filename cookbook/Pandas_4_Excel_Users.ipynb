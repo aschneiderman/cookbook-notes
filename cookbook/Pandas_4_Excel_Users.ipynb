{
 "cells": [
  {
   "cell_type": "markdown",
   "metadata": {},
   "source": [
    "## Pandas for Excel Users: a Cookbook"
   ]
  },
  {
   "cell_type": "code",
   "execution_count": 6,
   "metadata": {},
   "outputs": [
    {
     "data": {
      "text/html": [
       "<style>\n",
       "    table {\n",
       "        display: inline-block\n",
       "    }\n",
       "</style>\n"
      ],
      "text/plain": [
       "<IPython.core.display.HTML object>"
      ]
     },
     "metadata": {},
     "output_type": "display_data"
    }
   ],
   "source": [
    "%%html\n",
    "<style>\n",
    "    table {\n",
    "        display: inline-block\n",
    "    }\n",
    "</style>"
   ]
  },
  {
   "cell_type": "markdown",
   "metadata": {},
   "source": [
    "Pandas is very powerful. But when you're first switching from Excel to pandas, it can be a bit overwhelming. The following are recipes for some of the most common tasks:\n",
    "\n",
    "| What  | How |\n",
    "| ------------- | ------------- |\n",
    "| [Files](Pandas_Files.ipynb) |  Reading  [Excel](Pandas_Files.ipynb#Reading-Excel-files), [CSV](Pandas_Files.ipynb#Reading-CSV-Files), or Tab-delimited files; Writing Excel, [CSV](Pandas_Files.ipynb#Writing-CSV-Files), or Tab-delimited files, [Renaming](Pandas_Files.ipynb#Renaming-a-File), [Moving](Pandas_Files.ipynb#Moving-a-File), and [Deleting](Pandas_Files.ipynb#Deleting-a-File) Files, reading a [directory](Pandas_Files.ipynb#Listing-the-Files-in-a-Directory) -- and how to [troubleshoot](Pandas_Files.ipynb#Troubleshooting-Reading-Files) reading files|\n",
    "| [Selecting Data](Pandas_Slicing_Data.ipynb) |  by [rows](Pandas_Slicing_Data.ipynb#Selecting-Rows),  [columns](Pandas_Slicing_Data.ipynb#Selecting-Columns)|\n",
    "| [Getting Counts](Pandas_Slicing_Data.ipynb) |  [frequency counts](Pandas_Slicing_Data.ipynb#Frequency-Counts), [Top 10](Pandas_Slicing_Data.ipynb#Top-10-Most-Frequent-Values), pivot tables, turning [columns into rows](Pandas_Slicing_Data.ipynb#Turning-Columns-into-Rows-Using-Melt)|\n",
    "| [Cleaning Data](Pandas_Cleaning.ipynb) |  [Renaming Columns](Pandas_Cleaning.ipynb#Renaming-Columns), [Deleting Columns](Pandas_Cleaning.ipynb#Deleting-Columns), Dropping Rows with [Missing Values](Pandas_Cleaning.ipynb#Dropping-Rows-with-Missing-Values), [Filtering out Rows](Pandas_Cleaning.ipynb#Filtering-Rows) containing values you don't want, turning [columns into rows](Pandas_Slicing_Data.ipynb#Turning-Columns-into-Rows-Using-Melt)|\n",
    "| [Graphics](Pandas_Bokeh.ipynb) |   [Bokeh](Pandas_Bokeh.ipynb) |\n"
   ]
  },
  {
   "cell_type": "markdown",
   "metadata": {},
   "source": [
    "### In Process"
   ]
  },
  {
   "cell_type": "markdown",
   "metadata": {},
   "source": [
    "Some stuff"
   ]
  },
  {
   "cell_type": "markdown",
   "metadata": {},
   "source": [
    "### Notes Dump"
   ]
  },
  {
   "cell_type": "markdown",
   "metadata": {},
   "source": [
    "Some stuff"
   ]
  },
  {
   "cell_type": "markdown",
   "metadata": {},
   "source": [
    "### Down the Road"
   ]
  },
  {
   "cell_type": "markdown",
   "metadata": {},
   "source": [
    "Some Stuff"
   ]
  },
  {
   "cell_type": "code",
   "execution_count": null,
   "metadata": {},
   "outputs": [],
   "source": []
  }
 ],
 "metadata": {
  "kernelspec": {
   "display_name": "Python 3",
   "language": "python",
   "name": "python3"
  },
  "language_info": {
   "codemirror_mode": {
    "name": "ipython",
    "version": 3
   },
   "file_extension": ".py",
   "mimetype": "text/x-python",
   "name": "python",
   "nbconvert_exporter": "python",
   "pygments_lexer": "ipython3",
   "version": "3.8.8"
  }
 },
 "nbformat": 4,
 "nbformat_minor": 1
}
