{
 "cells": [
  {
   "cell_type": "markdown",
   "metadata": {},
   "source": [
    "## Pandas for Excel Users: a Cookbook"
   ]
  },
  {
   "cell_type": "markdown",
   "metadata": {},
   "source": [
    "<table>\n",
    "    <tr><td>What</td><td>How</td></tr>\n",
    "<tr><td>\n",
    "<a href=\"Pandas_Files.ipynb\">Files</a>\n",
    "</td>\n",
    "<td>  Reading  \n",
    "<a href=\"Pandas_Files.ipynb#Reading-Excel-files\">Excel</a>\n",
    ", \n",
    "<a href=\"Pandas_Files.ipynb#Reading-CSV-Files\">CSV</a>\n",
    ", or Tab-delimited files; Writing Excel, \n",
    "<a href=\"Pandas_Files.ipynb#Writing-CSV-Files\">CSV</a>\n",
    ", or Tab-delimited files, \n",
    "<a href=\"Pandas_Files.ipynb#Renaming-a-File\">Renaming</a>\n",
    ", \n",
    "<a href=\"Pandas_Files.ipynb#Moving-a-File\">Moving</a>\n",
    ", and \n",
    "<a href=\"Pandas_Files.ipynb#Deleting-a-File\">Deleting</a>\n",
    " Files, reading a \n",
    "<a href=\"Pandas_Files.ipynb#Listing-the-Files-in-a-Directory\">directory</a>\n",
    " -- and how to \n",
    "<a href=\"Pandas_Files.ipynb#Troubleshooting-Reading-Files \">troubleshoot</a>\n",
    " reading files</td>\n",
    "</tr>\n",
    "<tr>\n",
    "<td> \n",
    "<a href=\"Pandas_Slicing_Data.ipynb \">Selecting Data</a>\n",
    "</td>\n",
    "<td>  by \n",
    "<a href=\"Pandas_Slicing_Data.ipynb#Selecting-Rows \">rows</a>\n",
    ",  \n",
    "<a href=\"Pandas_Slicing_Data.ipynb#Selecting-Columns \">columns</a>\n",
    "</td>\n",
    "</tr>\n",
    "<tr>\n",
    "<td> \n",
    "<a href=\"Pandas_Slicing_Data.ipynb \">Getting Counts</a>\n",
    "</td>\n",
    "<td>  \n",
    "<a href=\"Pandas_Slicing_Data.ipynb#Frequency-Counts\">frequency counts</a>\n",
    ", \n",
    "<a href=\"Pandas_Slicing_Data.ipynb#Top-10-Most-Frequent-Values \">Top 10</a>\n",
    ", pivot tables, turning \n",
    "<a href=\"Pandas_Slicing_Data.ipynb#Turning-Columns-into-Rows-Using-Melt \">columns into rows</a>\n",
    "</td>\n",
    "</tr>\n",
    "<tr>\n",
    "<td> \n",
    "<a href=\"Pandas_Cleaning.ipynb\">Cleaning Data</a>\n",
    "</td>\n",
    "<td>  \n",
    "<a href=\"Pandas_Cleaning.ipynb#Renaming-Columns\">Renaming Columns</a>\n",
    ", \n",
    "<a href=\"Pandas_Cleaning.ipynb#Deleting-Columns\">Deleting Columns</a>\n",
    ", Dropping Rows with \n",
    "<a href=\"Pandas_Cleaning.ipynb#Dropping-Rows-with-Missing-Values\">Missing Values</a>\n",
    ", \n",
    "<a href=\"Pandas_Cleaning.ipynb#Filtering-Rows\">Filtering out Rows</a>\n",
    " containing values you don't want, turning \n",
    "<a href=\"Pandas_Slicing_Data.ipynb#Turning-Columns-into-Rows-Using-Melt\">columns into rows</a>\n",
    "</td>\n",
    "</tr>\n",
    "<tr>\n",
    "<td> \n",
    "<a href=\"Pandas_Bokeh.ipynb\">Graphics</a>\n",
    "</td>\n",
    "<td>   \n",
    "<a href=\"Pandas_Bokeh.ipynb\">Bokeh</a>\n",
    " </td>\n",
    "</tr>\n",
    "</table>"
   ]
  },
  {
   "cell_type": "markdown",
   "metadata": {},
   "source": [
    " <a href=\"Miscellaneous.ipynb\">Miscellaneous</a>\n",
    "\n",
    " <a href=\"Method_chaining.ipynb\">Method Chaining</a>"
   ]
  },
  {
   "cell_type": "markdown",
   "metadata": {},
   "source": [
    "\n",
    "<table>     <tr><td>What</td><td>How</td></tr> <tr><td> <a href=\"Pandas_Files.ipynb\">Files</a> </td> <td>  Reading   <a href=\"Pandas_Files.ipynb#Reading-Excel-files\">Excel</a> ,  <a href=\"Pandas_Files.ipynb#Reading-CSV-Files\">CSV</a> , or Tab-delimited files; Writing Excel,  <a href=\"Pandas_Files.ipynb#Writing-CSV-Files\">CSV</a> , or Tab-delimited files,  <a href=\"Pandas_Files.ipynb#Renaming-a-File\">Renaming</a> ,  <a href=\"Pandas_Files.ipynb#Moving-a-File\">Moving</a> , and  <a href=\"Pandas_Files.ipynb#Deleting-a-File\">Deleting</a>  Files, reading a  <a href=\"Pandas_Files.ipynb#Listing-the-Files-in-a-Directory\">directory</a>  -- and how to  <a href=\"Pandas_Files.ipynb#Troubleshooting-Reading-Files \">troubleshoot</a>  reading files</td> </tr> <tr> <td>  <a href=\"Pandas_Slicing_Data.ipynb \">Selecting Data</a> </td> <td>  by  <a href=\"Pandas_Slicing_Data.ipynb#Selecting-Rows \">rows</a> ,   <a href=\"Pandas_Slicing_Data.ipynb#Selecting-Columns \">columns</a> </td> </tr> <tr> <td>  <a href=\"Pandas_Slicing_Data.ipynb \">Getting Counts</a> </td> <td>   <a href=\"Pandas_Slicing_Data.ipynb#Frequency-Counts\">frequency counts</a> ,  <a href=\"Pandas_Slicing_Data.ipynb#Top-10-Most-Frequent-Values \">Top 10</a> , pivot tables, turning  <a href=\"Pandas_Slicing_Data.ipynb#Turning-Columns-into-Rows-Using-Melt \">columns into rows</a> </td> </tr> <tr> <td>  <a href=\"Pandas_Cleaning.ipynb\">Cleaning Data</a> </td> <td>   <a href=\"Pandas_Cleaning.ipynb#Renaming-Columns\">Renaming Columns</a> ,  <a href=\"Pandas_Cleaning.ipynb#Deleting-Columns\">Deleting Columns</a> , Dropping Rows with  <a href=\"Pandas_Cleaning.ipynb#Dropping-Rows-with-Missing-Values\">Missing Values</a> ,  <a href=\"Pandas_Cleaning.ipynb#Filtering-Rows\">Filtering out Rows</a>  containing values you don't want, turning  <a href=\"Pandas_Slicing_Data.ipynb#Turning-Columns-into-Rows-Using-Melt\">columns into rows</a> </td> </tr> <tr> <td>  <a href=\"Pandas_Bokeh.ipynb\">Graphics</a> </td> <td>    <a href=\"Pandas_Bokeh.ipynb\">Bokeh</a>  </td> </tr>      </table> "
   ]
  },
  {
   "cell_type": "markdown",
   "metadata": {},
   "source": [
    "<table>\n",
    "    <tr><td>What</td><td>How</td></tr>\n",
    "\n",
    "<a href=\"Pandas_Files.ipynb\">Files</a>\n",
    "</td>\n",
    "<td>  Reading  \n",
    "<a href=\"Pandas_Files.ipynb#Reading-Excel-files\">Excel</a>\n",
    ", \n",
    "<a href=\"Pandas_Files.ipynb#Reading-CSV-Files\">CSV</a>\n",
    ", or Tab-delimited files; Writing Excel, \n",
    "<a href=\"Pandas_Files.ipynb#Writing-CSV-Files\">CSV</a>\n",
    ", or Tab-delimited files, \n",
    "<a href=\"Pandas_Files.ipynb#Renaming-a-File\">Renaming</a>\n",
    ", \n",
    "<a href=\"Pandas_Files.ipynb#Moving-a-File\">Moving</a>\n",
    ", and \n",
    "<a href=\"Pandas_Files.ipynb#Deleting-a-File\">Deleting</a>\n",
    " Files, reading a \n",
    "<a href=\"Pandas_Files.ipynb#Listing-the-Files-in-a-Directory\">directory</a>\n",
    " -- and how to \n",
    "<a href=\"Pandas_Files.ipynb#Troubleshooting-Reading-Files \">troubleshoot</a>\n",
    " reading files</td>\n",
    "</tr>\n",
    "<tr>\n",
    "<td> \n",
    "<a href=\"Pandas_Slicing_Data.ipynb \">Selecting Data</a>\n",
    "</td>\n",
    "<td>  by \n",
    "<a href=\"Pandas_Slicing_Data.ipynb#Selecting-Rows \">rows</a>\n",
    ",  \n",
    "<a href=\"Pandas_Slicing_Data.ipynb#Selecting-Columns \">columns</a>\n",
    "</td>\n",
    "</tr>\n",
    "<tr>\n",
    "<td> \n",
    "<a href=\"Pandas_Slicing_Data.ipynb \">Getting Counts</a>\n",
    "</td>\n",
    "<td>  \n",
    "<a href=\"Pandas_Slicing_Data.ipynb#Frequency-Counts\">frequency counts</a>\n",
    ", \n",
    "<a href=\"Pandas_Slicing_Data.ipynb#Top-10-Most-Frequent-Values \">Top 10</a>\n",
    ", pivot tables, turning \n",
    "<a href=\"Pandas_Slicing_Data.ipynb#Turning-Columns-into-Rows-Using-Melt \">columns into rows</a>\n",
    "</td>\n",
    "</tr>\n",
    "<tr>\n",
    "<td> \n",
    "<a href=\"Pandas_Cleaning.ipynb\">Cleaning Data</a>\n",
    "</td>\n",
    "<td>  \n",
    "<a href=\"Pandas_Cleaning.ipynb#Renaming-Columns\">Renaming Columns</a>\n",
    ", \n",
    "<a href=\"Pandas_Cleaning.ipynb#Deleting-Columns\">Deleting Columns</a>\n",
    ", Dropping Rows with \n",
    "<a href=\"Pandas_Cleaning.ipynb#Dropping-Rows-with-Missing-Values\">Missing Values</a>\n",
    ", \n",
    "<a href=\"Pandas_Cleaning.ipynb#Filtering-Rows\">Filtering out Rows</a>\n",
    " containing values you don't want, turning \n",
    "<a href=\"Pandas_Slicing_Data.ipynb#Turning-Columns-into-Rows-Using-Melt\">columns into rows</a>\n",
    "</td>\n",
    "</tr>\n",
    "\n",
    "\n",
    "    </table>"
   ]
  },
  {
   "cell_type": "markdown",
   "metadata": {},
   "source": [
    "To research:\n",
    "\n",
    "- More generally, read up on using Visual Studio code for pandas and notebook\n",
    "\n",
    "- How to move a cell up or down One or more cells\n",
    "- How to move cells in Visual Studio code\n"
   ]
  },
  {
   "cell_type": "markdown",
   "metadata": {},
   "source": [
    "Pandas is very powerful. But when you're first switching from Excel to pandas, it can be a bit overwhelming. The following are recipes for some of the most common tasks:\n",
    "\n",
    "| What  | How |\n",
    "| ------------- | ------------- |\n",
    "| [Files](Pandas_Files.ipynb) |  Reading  [Excel](Pandas_Files.ipynb#Reading-Excel-files), [CSV](Pandas_Files.ipynb#Reading-CSV-Files), or Tab-delimited files; Writing Excel, [CSV](Pandas_Files.ipynb#Writing-CSV-Files), or Tab-delimited files, [Renaming](Pandas_Files.ipynb#Renaming-a-File), [Moving](Pandas_Files.ipynb#Moving-a-File), and [Deleting](Pandas_Files.ipynb#Deleting-a-File) Files, reading a [directory](Pandas_Files.ipynb#Listing-the-Files-in-a-Directory) -- and how to [troubleshoot](Pandas_Files.ipynb#Troubleshooting-Reading-Files) reading files|\n",
    "| [Selecting Data](Pandas_Slicing_Data.ipynb) |  by [rows](Pandas_Slicing_Data.ipynb#Selecting-Rows),  [columns](Pandas_Slicing_Data.ipynb#Selecting-Columns)|\n",
    "| [Getting Counts](Pandas_Slicing_Data.ipynb) |  [frequency counts](Pandas_Slicing_Data.ipynb#Frequency-Counts), [Top 10](Pandas_Slicing_Data.ipynb#Top-10-Most-Frequent-Values), pivot tables, turning [columns into rows](Pandas_Slicing_Data.ipynb#Turning-Columns-into-Rows-Using-Melt)|\n",
    "| [Cleaning Data](Pandas_Cleaning.ipynb) |  [Renaming Columns](Pandas_Cleaning.ipynb#Renaming-Columns), [Deleting Columns](Pandas_Cleaning.ipynb#Deleting-Columns), Dropping Rows with [Missing Values](Pandas_Cleaning.ipynb#Dropping-Rows-with-Missing-Values), [Filtering out Rows](Pandas_Cleaning.ipynb#Filtering-Rows) containing values you don't want, turning [columns into rows](Pandas_Slicing_Data.ipynb#Turning-Columns-into-Rows-Using-Melt)|\n",
    "| [Graphics](Pandas_Bokeh.ipynb) |   [Bokeh](Pandas_Bokeh.ipynb) |\n"
   ]
  },
  {
   "cell_type": "markdown",
   "metadata": {},
   "source": [
    "### In Process"
   ]
  },
  {
   "cell_type": "markdown",
   "metadata": {},
   "source": [
    "Some stuff"
   ]
  },
  {
   "cell_type": "markdown",
   "metadata": {},
   "source": [
    "### Notes Dump"
   ]
  },
  {
   "cell_type": "markdown",
   "metadata": {},
   "source": [
    "Some stuff"
   ]
  },
  {
   "cell_type": "markdown",
   "metadata": {},
   "source": [
    "### Down the Road"
   ]
  },
  {
   "cell_type": "markdown",
   "metadata": {},
   "source": [
    "Some Stuff"
   ]
  },
  {
   "cell_type": "code",
   "execution_count": null,
   "metadata": {},
   "outputs": [],
   "source": []
  }
 ],
 "metadata": {
  "kernelspec": {
   "display_name": "Python 3",
   "language": "python",
   "name": "python3"
  },
  "language_info": {
   "codemirror_mode": {
    "name": "ipython",
    "version": 3
   },
   "file_extension": ".py",
   "mimetype": "text/x-python",
   "name": "python",
   "nbconvert_exporter": "python",
   "pygments_lexer": "ipython3",
   "version": "3.8.8"
  }
 },
 "nbformat": 4,
 "nbformat_minor": 1
}
