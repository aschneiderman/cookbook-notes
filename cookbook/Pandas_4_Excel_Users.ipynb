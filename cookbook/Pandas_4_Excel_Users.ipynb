{
 "cells": [
  {
   "cell_type": "markdown",
   "metadata": {},
   "source": [
    "## Pandas for Excel Users: a Cookbook"
   ]
  },
  {
   "cell_type": "markdown",
   "metadata": {},
   "source": [
    "Pandas is very powerful. But when you're first switching from Excel to pandas, it can be a bit overwhelming. The following are recipes for some of the most common tasks:\n"
   ]
  },
  {
   "cell_type": "markdown",
   "metadata": {},
   "source": [
    "\n",
    "    \n",
    "<table style=\" border: none; table-layout:fixed; width: 100%; a {color:black}; \" >\n",
    "    <tr style=\"background-color: white; text-align: left;   font-size: 130%;   >\n",
    "<tr style=\"background-color: white; text-align: left;   font-size: 130%;\"><td style=\" width:15%;  text-align:left; vertical-align: top;\">Files\n",
    "</td>\n",
    "<td style=\"text-align:left; vertical-align: top;\">  Reading  \n",
    "<a href=\"Pandas_Files.ipynb#Reading-Excel-files\">Excel</a>, \n",
    "<a href=\"Pandas_Files.ipynb#Reading-CSV-Files\">CSV</a>, or Tab-delimited files; Writing Excel, \n",
    "<a href=\"Pandas_Files.ipynb#Writing-CSV-Files\">CSV</a>, or Tab-delimited files, \n",
    "<a href=\"Pandas_Files.ipynb#Renaming-a-File\">Renaming</a>, \n",
    "<a href=\"Pandas_Files.ipynb#Moving-a-File\">Moving</a>, and \n",
    "<a href=\"Pandas_Files.ipynb#Deleting-a-File\">Deleting</a>\n",
    " Files, reading a \n",
    "<a href=\"Pandas_Files.ipynb#Listing-the-Files-in-a-Directory\">directory</a>\n",
    " -- and how to \n",
    "<a href=\"Pandas_Files.ipynb#Troubleshooting-Reading-Files \">troubleshoot</a>\n",
    " reading files</td>\n",
    "</tr>\n",
    "<tr style=\"background-color: white; text-align: left;   font-size: 130%;\">\n",
    "<td style=\" text-align:left; vertical-align: top;  \"> \n",
    "Selecting Data\n",
    "</td>\n",
    "<td style=\" text-align:left; vertical-align: top;\">  By \n",
    "<a href=\"Pandas_Slicing_Data.ipynb#Selecting-Rows \">rows</a>,  \n",
    "<a href=\"Pandas_Slicing_Data.ipynb#Selecting-Columns \">columns</a>\n",
    "</td>\n",
    "</tr>\n",
    "<tr style=\"background-color: white; text-align: left;   font-size: 130%;\">\n",
    "<td style=\" text-align:left; vertical-align: top;\"> \n",
    "Getting Counts\n",
    "</td>\n",
    "<td style=\" text-align:left; vertical-align: top;\">  \n",
    "<a href=\"Pandas_Slicing_Data.ipynb#Frequency-Counts\">Frequency counts</a>, \n",
    "<a href=\"Pandas_Slicing_Data.ipynb#Top-10-Most-Frequent-Values \">Top 10</a>, pivot tables, turning \n",
    "<a href=\"Pandas_Slicing_Data.ipynb#Turning-Columns-into-Rows-Using-Melt \">columns into rows</a>\n",
    "</td>\n",
    "</tr>\n",
    "<tr style=\"background-color: white; text-align: left;   font-size: 130%;\">\n",
    "<td style=\" text-align:left; vertical-align: top;\"> \n",
    "Cleaning Data\n",
    "</td>\n",
    "<td style=\" text-align:left; vertical-align: top;\">  \n",
    "<a href=\"Pandas_Cleaning.ipynb#Renaming-Columns\">Renaming Columns</a>, \n",
    "<a href=\"Pandas_Cleaning.ipynb#Deleting-Columns\">Deleting Columns</a>, Dropping Rows with \n",
    "<a href=\"Pandas_Cleaning.ipynb#Dropping-Rows-with-Missing-Values\">Missing Values</a>, \n",
    "<a href=\"Pandas_Cleaning.ipynb#Filtering-Rows\">Filtering out Rows</a>\n",
    " containing values you don't want, turning \n",
    "<a href=\"Pandas_Slicing_Data.ipynb#Turning-Columns-into-Rows-Using-Melt\">columns into rows</a>\n",
    "</td>\n",
    "</tr>\n",
    "<tr style=\"background-color: white; text-align: left;   font-size: 130%;\">\n",
    "<td style=\" text-align:left; vertical-align: top;\"> \n",
    "Graphics\n",
    "</td>\n",
    "<td style=\" text-align:left; vertical-align: top;\">   \n",
    "<a href=\"Pandas_Bokeh.ipynb\">Bokeh</a>\n",
    " </td>\n",
    "</tr>\n",
    "</table>\n"
   ]
  },
  {
   "cell_type": "markdown",
   "metadata": {},
   "source": [
    " <a href=\"Miscellaneous.ipynb\">Miscellaneous</a>\n",
    "\n",
    " <a href=\"Method_chaining.ipynb\">Method Chaining</a>\n",
    "\n",
    " <a href=\"example_pandas_script.ipynb\">Example Starter Script</a>"
   ]
  },
  {
   "cell_type": "markdown",
   "metadata": {},
   "source": [
    "To research:\n",
    "\n",
    "- More generally, read up on using Visual Studio code for pandas and notebook\n",
    "\n",
    "- How to move a cell up or down One or more cells\n",
    "- How to move cells in Visual Studio code\n"
   ]
  },
  {
   "cell_type": "markdown",
   "metadata": {},
   "source": [
    "### In Process"
   ]
  },
  {
   "cell_type": "markdown",
   "metadata": {},
   "source": [
    "Some stuff"
   ]
  },
  {
   "cell_type": "markdown",
   "metadata": {},
   "source": [
    "### Notes Dump"
   ]
  },
  {
   "cell_type": "markdown",
   "metadata": {},
   "source": [
    "Some stuff"
   ]
  },
  {
   "cell_type": "markdown",
   "metadata": {},
   "source": [
    "### Down the Road"
   ]
  },
  {
   "cell_type": "markdown",
   "metadata": {},
   "source": [
    "Some Stuff"
   ]
  },
  {
   "cell_type": "code",
   "execution_count": null,
   "metadata": {},
   "outputs": [],
   "source": []
  }
 ],
 "metadata": {
  "kernelspec": {
   "display_name": "Python 3",
   "language": "python",
   "name": "python3"
  },
  "language_info": {
   "codemirror_mode": {
    "name": "ipython",
    "version": 3
   },
   "file_extension": ".py",
   "mimetype": "text/x-python",
   "name": "python",
   "nbconvert_exporter": "python",
   "pygments_lexer": "ipython3",
   "version": "3.8.8"
  }
 },
 "nbformat": 4,
 "nbformat_minor": 1
}
