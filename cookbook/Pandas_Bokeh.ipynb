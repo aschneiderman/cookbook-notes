{
 "cells": [
  {
   "cell_type": "markdown",
   "metadata": {},
   "source": [
    "# Bokeh"
   ]
  },
  {
   "cell_type": "markdown",
   "metadata": {},
   "source": [
    "Pandas comes with a library for plotting called matplotlib.  It's powerful, but it takes a lot of work to  create  graphs that are aesthetically pleasing.  So, we are in the process of switching to using Bokeh. Here are a few general links to get you started:\n",
    "\n",
    "- Continuum Analytics' [announcement]( http://continuum.io/blog/bokeh-0.5), which has some examples that aren't yet covered in the official documentation\n",
    "- Where [sample IPython Notebooks]( http://bokeh.pydata.org/docs/quickstart.html#example-ipython-notebooks) are stored on your machine if you've installed Bokeh using Anaconda\n",
    "- The official [tutorial]( http://bokeh.pydata.org/tutorial/index.html)\n",
    "- [Documentation]( http://bokeh.pydata.org/docs/user_guide.html) for users\n",
    "- How to [install Bokeh]( http://bokeh.pydata.org/tutorial/quick_install.html) \n",
    "- The Bokeh [website]( http://bokeh.pydata.org/)\n",
    "- When you create Bokeh graphs, you can choose from the following [CSS standard colors](http://www.w3schools.com/cssref/css_colornames.asp)\n",
    "\n",
    "NOTE: to get the latest version of Bokeh, start the Anaconda's DOS batch file command and type in the following:\n",
    "\n",
    "> conda update bokeh"
   ]
  },
  {
   "cell_type": "markdown",
   "metadata": {},
   "source": [
    "## Getting Started"
   ]
  },
  {
   "cell_type": "markdown",
   "metadata": {},
   "source": [
    "For most Bokeh plots, you're going to need the following at the start of your script:"
   ]
  },
  {
   "cell_type": "code",
   "execution_count": null,
   "metadata": {},
   "outputs": [],
   "source": [
    "import bokeh\n",
    "bokeh.load_notebook()"
   ]
  },
  {
   "cell_type": "markdown",
   "metadata": {},
   "source": [
    "If you're going to use particular chart types, you'll need to import them.  For example, if you're planning on using the bar chart, scatter chart, and histogram, you'd use:"
   ]
  },
  {
   "cell_type": "code",
   "execution_count": null,
   "metadata": {},
   "outputs": [],
   "source": [
    "from bokeh.charts import Bar, Scatter, Histogram"
   ]
  },
  {
   "cell_type": "markdown",
   "metadata": {},
   "source": [
    "## Troubleshooting"
   ]
  },
  {
   "cell_type": "markdown",
   "metadata": {},
   "source": [
    "Lessons we've learned the hard way:\n",
    "\n",
    "- If you do a scatter plot and it returns a blank plot, odds are the values you gave it for  either the x or y axis aren't\n",
    "numbers.  At some point hopefully Bokeh will be fixed so it throws an error message if you give a scatter plot a column that isn't\n",
    "numbers."
   ]
  }
 ],
 "metadata": {
  "kernelspec": {
   "display_name": "Python 3",
   "language": "python",
   "name": "python3"
  },
  "language_info": {
   "codemirror_mode": {
    "name": "ipython",
    "version": 3
   },
   "file_extension": ".py",
   "mimetype": "text/x-python",
   "name": "python",
   "nbconvert_exporter": "python",
   "pygments_lexer": "ipython3",
   "version": "3.7.4"
  }
 },
 "nbformat": 4,
 "nbformat_minor": 1
}
