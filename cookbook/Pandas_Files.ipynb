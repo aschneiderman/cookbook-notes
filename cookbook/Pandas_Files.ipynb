{
 "cells": [
  {
   "cell_type": "markdown",
   "metadata": {},
   "source": [
    "# Pandas for Excel Users: Files"
   ]
  },
  {
   "cell_type": "markdown",
   "metadata": {},
   "source": [
    "- Reading files: [Excel](#Reading-Excel-Files), [CSV](#Reading-CSV-Files), tab delimited -- and how to [troubleshoot](#Troubleshooting-Reading-Files)\n",
    "- Writing files: [CSV](#Writing-CSV-Files)\n",
    "- [Renaming](#Renaming-a-File), [Moving](#Moving-a-File), and [Deleting](#Deleting-a-File) Files\n",
    "- Get a list of files in a [directory](#Listing-the-Files-in-a-Directory)"
   ]
  },
  {
   "cell_type": "markdown",
   "metadata": {},
   "source": [
    "## Reading Excel Files"
   ]
  },
  {
   "cell_type": "markdown",
   "metadata": {},
   "source": [
    "You can read in Excel file into a data frame in just one line: "
   ]
  },
  {
   "cell_type": "code",
   "execution_count": null,
   "metadata": {},
   "outputs": [],
   "source": [
    "sales = pd.read_excel('sales_data.xlsx', 0, index_col=None, na_values=['NA'])\n",
    "sales[:10]"
   ]
  },
  {
   "cell_type": "markdown",
   "metadata": {},
   "source": [
    "For the spreadsheet 'sales_data.xlsx', this will read the first workbook – that's what the 0 is for – into a DataFrame.\n",
    "\n",
    "If you want to read the workbook other than the first one, you can either use a number – 0 for the first one, 1 for the second, etc. – or you can use the name of the worksheet:"
   ]
  },
  {
   "cell_type": "code",
   "execution_count": null,
   "metadata": {},
   "outputs": [],
   "source": [
    "sales = pd.read_excel('sales_data.xlsx', 'Data from Accounting', index_col=None, na_values=['NA'])"
   ]
  },
  {
   "cell_type": "markdown",
   "metadata": {},
   "source": [
    "See below for [additional options](#Options-You-Can-Use-When-Reading-Files); for more info, see the [Pandas documentation](http://pandas-docs.github.io/pandas-docs-travis/user_guide/io.html#excel-files)."
   ]
  },
  {
   "cell_type": "markdown",
   "metadata": {},
   "source": [
    "## Reading CSV Files"
   ]
  },
  {
   "cell_type": "markdown",
   "metadata": {},
   "source": [
    "You can read a CSV file with just one line:"
   ]
  },
  {
   "cell_type": "code",
   "execution_count": null,
   "metadata": {},
   "outputs": [],
   "source": [
    "pastries = pd.read_csv('2012_pastries.csv')\n",
    "pastries[:10]"
   ]
  },
  {
   "cell_type": "markdown",
   "metadata": {},
   "source": [
    "If the data isn't separated by commas, use the sep option:"
   ]
  },
  {
   "cell_type": "code",
   "execution_count": null,
   "metadata": {},
   "outputs": [],
   "source": [
    "pastries = pd.read_csv('2012_pastries.csv', sep=';')"
   ]
  },
  {
   "cell_type": "markdown",
   "metadata": {},
   "source": [
    "## Options You Can Use When Reading Files"
   ]
  },
  {
   "cell_type": "markdown",
   "metadata": {},
   "source": [
    "Pandas has a huge range of options that can save you a lot of work when you're reading in a file. For example, if some columns include dates, you can convert them to date format using parse_dates:"
   ]
  },
  {
   "cell_type": "code",
   "execution_count": null,
   "metadata": {},
   "outputs": [],
   "source": [
    "pastries = pd.read_csv('2012_pastries.csv', parse_dates=['Purchase Date'])"
   ]
  },
  {
   "cell_type": "markdown",
   "metadata": {},
   "source": [
    " You can also change column names, tell Pandas what values to treat as missing values (a.k.a. NaN), parse more complex date formats, read only the first n number of rows, etc.  For more info, see the [Pandas documentation for reading CSV and text files](http://pandas-docs.github.io/pandas-docs-travis/user_guide/io.html#csv-text-files); most of these options will also work for Excel."
   ]
  },
  {
   "cell_type": "markdown",
   "metadata": {},
   "source": [
    "## Creating a DataFrame Without Reading A File"
   ]
  },
  {
   "cell_type": "markdown",
   "metadata": {},
   "source": [
    "If you have a small amount of data and it isn't in a spreadsheet or text file, you can create a Data Frame  on the fly. For example:"
   ]
  },
  {
   "cell_type": "code",
   "execution_count": null,
   "metadata": {},
   "outputs": [],
   "source": [
    "campaigns = pd.DataFrame( {'Google Tracking Code': ['ms23', 'ms19', 'res039', 'ab6'],\n",
    "'Created by': ['Sue', 'Sue', 'Amy', 'Amy'],\n",
    "'Visits': [105661, 98834, 61235, 12617],\n",
    " 'Revenue': [10550, 8600, 15310, 9700]\n",
    "})\n",
    "campaigns"
   ]
  },
  {
   "cell_type": "markdown",
   "metadata": {},
   "source": [
    "## Listing the Files in a Directory"
   ]
  },
  {
   "cell_type": "markdown",
   "metadata": {},
   "source": [
    "To read the files in a directory, use glob. For example, to read the files in your current directory:"
   ]
  },
  {
   "cell_type": "code",
   "execution_count": 5,
   "metadata": {},
   "outputs": [
    {
     "name": "stdout",
     "output_type": "stream",
     "text": [
      "['data', 'Pandas_4_Excel_Users.ipynb', 'Pandas_Bokeh.ipynb', 'Pandas_Cleaning.ipynb', 'Pandas_D3.ipynb', 'Pandas_Files.ipynb', 'Pandas_ggplot.ipynb', 'Pandas_Graphics.ipynb', 'Pandas_Installing.ipynb', 'Pandas_Matplotlib.ipynb', 'Pandas_Slicing_Data.ipynb', 'Pandas_Strings.ipynb', 'Pandas_Troubleshooting.ipynb', 'Twitter-Bootstrap.ipynb', 'Widgets.ipynb']\n"
     ]
    }
   ],
   "source": [
    "import glob\n",
    "files = glob.glob('*')"
   ]
  },
  {
   "cell_type": "markdown",
   "metadata": {},
   "source": [
    "To read the .txt files in the data subdirectory:"
   ]
  },
  {
   "cell_type": "code",
   "execution_count": null,
   "metadata": {},
   "outputs": [],
   "source": [
    "import glob\n",
    "files = glob.glob('data/*.txt')\n",
    "print files"
   ]
  },
  {
   "cell_type": "markdown",
   "metadata": {},
   "source": [
    "Sometimes you'll want to read more than one type of file -- e.g., all the .csv, .txt,  and Excel files.  Here's a function to do it:"
   ]
  },
  {
   "cell_type": "code",
   "execution_count": 10,
   "metadata": {},
   "outputs": [],
   "source": [
    "import glob\n",
    "def get_directory_files():\n",
    "    \"\"\"Get a list of all files in the current directory that are txt, csv, or xls/xlsx\"\"\"\n",
    "    file_types=('*.txt','*.csv','*.xls','*.xlsx')\n",
    "    files_grabbed=[]\n",
    "    for file_type in file_types:\n",
    "        files_grabbed.extend(glob.glob(file_type)) #Extend is like append, only it takes a list and pulls out the individual items\n",
    "    return files_grabbed"
   ]
  },
  {
   "cell_type": "markdown",
   "metadata": {},
   "source": [
    "## Writing CSV Files"
   ]
  },
  {
   "cell_type": "markdown",
   "metadata": {},
   "source": [
    "To create a CSV file, use to_csv. For example, to save some product data you've cleaned up:"
   ]
  },
  {
   "cell_type": "code",
   "execution_count": 2,
   "metadata": {},
   "outputs": [],
   "source": [
    "purchases.to_csv('Product Data Cleaned.csv', encoding='utf-8')"
   ]
  },
  {
   "cell_type": "markdown",
   "metadata": {},
   "source": [
    "What \"encoding='utf-8'\" does is that if any fields in your DataFrame contain any characters that are Unicode, it tells pandas how to convert them; without it, pandas will spit out a bizarre looking error message."
   ]
  },
  {
   "cell_type": "markdown",
   "metadata": {},
   "source": [
    "## Renaming a File"
   ]
  },
  {
   "cell_type": "markdown",
   "metadata": {},
   "source": [
    "To rename a file:"
   ]
  },
  {
   "cell_type": "code",
   "execution_count": null,
   "metadata": {},
   "outputs": [],
   "source": [
    "import os\n",
    "\n",
    "os.rename('oldfilename.txt', 'newfilename.txt')"
   ]
  },
  {
   "cell_type": "markdown",
   "metadata": {},
   "source": [
    "## Moving a File"
   ]
  },
  {
   "cell_type": "markdown",
   "metadata": {},
   "source": [
    "To move a file from one directory to another:"
   ]
  },
  {
   "cell_type": "code",
   "execution_count": null,
   "metadata": {},
   "outputs": [],
   "source": [
    "import shutil\n",
    "\n",
    "shutil.move('filetomove.txt', 'directorytomoveto')"
   ]
  },
  {
   "cell_type": "markdown",
   "metadata": {},
   "source": [
    "## Deleting a File"
   ]
  },
  {
   "cell_type": "markdown",
   "metadata": {},
   "source": [
    "To delete a file:"
   ]
  },
  {
   "cell_type": "code",
   "execution_count": null,
   "metadata": {},
   "outputs": [],
   "source": [
    "import os\n",
    "\n",
    "os.remove('filetodelete.txt')"
   ]
  },
  {
   "cell_type": "markdown",
   "metadata": {},
   "source": [
    "## Troubleshooting Reading Files"
   ]
  },
  {
   "cell_type": "markdown",
   "metadata": {},
   "source": [
    "Is Pandas complaining it can't find the file you're trying to read? Here are a few issues to check for:\n",
    "\n",
    "1) Is Pandas looking in the right directory? Running this code will show you the directory it's using and the names of the files in that directory:"
   ]
  },
  {
   "cell_type": "code",
   "execution_count": null,
   "metadata": {},
   "outputs": [],
   "source": [
    "import os\t\n",
    "os.listdir('.')  \t#  one dot =  your current directory"
   ]
  },
  {
   "cell_type": "markdown",
   "metadata": {},
   "source": [
    "2) Is the file extension the same?  For example, if you're importing an Excel file you might've typed \".xls\" but the file name actually ends with \".xlsx\".\n",
    "\n",
    "3) In the code that is reading in the file, did you accidentally put any spaces before or after the file's name? For example, if you're trying to read in data_dump.txt, both of these lines of codes will throw an error:"
   ]
  },
  {
   "cell_type": "code",
   "execution_count": null,
   "metadata": {},
   "outputs": [],
   "source": [
    "data = pd.read_excel(' data_dump.txt', 0, index_col=None, na_values=['NA'])\n",
    "data = pd.read_excel('data_dump.txt ', 0, index_col=None, na_values=['NA'])"
   ]
  },
  {
   "cell_type": "markdown",
   "metadata": {},
   "source": [
    "4) Are there any typos in the file name? Look for typos both in the name you typed in *and* the name of the actual file.\n",
    "\n",
    "Finally, if the problem isn't obvious to you, have someone else take a look at the code; it's amazing how often just even so in your code to someone else can help you spot a problem."
   ]
  }
 ],
 "metadata": {
  "kernelspec": {
   "display_name": "Python 3",
   "language": "python",
   "name": "python3"
  },
  "language_info": {
   "codemirror_mode": {
    "name": "ipython",
    "version": 3
   },
   "file_extension": ".py",
   "mimetype": "text/x-python",
   "name": "python",
   "nbconvert_exporter": "python",
   "pygments_lexer": "ipython3",
   "version": "3.8.8"
  }
 },
 "nbformat": 4,
 "nbformat_minor": 1
}
