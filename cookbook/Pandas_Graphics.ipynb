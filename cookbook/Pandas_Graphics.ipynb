{
 "cells": [
  {
   "cell_type": "markdown",
   "id": "ab335d4c",
   "metadata": {},
   "source": [
    "# Other Pandas Graphics Libraries"
   ]
  },
  {
   "cell_type": "markdown",
   "id": "c7c089f1",
   "metadata": {},
   "source": [
    "- [Vincent](http://vincent.readthedocs.org/en/latest/): Vincent is a Python library on top of Vega, a JavaScript visualization  library.  You can easily do pretty standard business graphs in it, and it works very nicely with Pandas. You can't customize it as much as you can with the JavaScript libraries below – d3/nvd3 – but then again it's a fraction of the work you would have to spend. The one problem we've encountered so far with Vincent is that if you want to do a bunch of graphs together, it doesn't offer you tools to make it easy to do.\n",
    "- [d3](http://d3js.org/): you can do very cool graphics in a JavaScript library called d3, but it's an awful lot of work. And to use it with Pandas, you have to convert the Pandas data into a JavaScript data format called JSON. So if you are trying to fluidly interact with the data as you are exploring it, it's really not a good option.\n",
    "- [nvd3](http://nvd3.org/): if you are trying to create basic charts, it takes a lot of the work out of d3. There is a Python wrapper for it. But when it comes to data, you've got the same issue you do with d3. So for Python for Excel Users, it's not much better off an option.\n",
    "- [Seaborn]( http://stanford.edu/%7Emwaskom/software/seaborn/introduction.html): designed for drawing statistical graphs, Seaborn makes a bunch of educated guesses as to what kind of graph would best fit your data. Works closely with Pandas. If you are trying to graph stats, it's definitely worth checking out.\n",
    "- Andrew Montalenti's very interesting PyData 2013 talk, [Rapid Data Visualization, from Python to Browser](http://vimeo.com/79580138)"
   ]
  },
  {
   "cell_type": "code",
   "execution_count": null,
   "id": "cea4572d",
   "metadata": {},
   "outputs": [],
   "source": []
  }
 ],
 "metadata": {
  "kernelspec": {
   "display_name": "Python 3",
   "language": "python",
   "name": "python3"
  },
  "language_info": {
   "codemirror_mode": {
    "name": "ipython",
    "version": 3
   },
   "file_extension": ".py",
   "mimetype": "text/x-python",
   "name": "python",
   "nbconvert_exporter": "python",
   "pygments_lexer": "ipython3",
   "version": "3.8.8"
  }
 },
 "nbformat": 4,
 "nbformat_minor": 1
}
