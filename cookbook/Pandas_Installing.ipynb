{
 "cells": [
  {
   "cell_type": "markdown",
   "metadata": {},
   "source": [
    "# Installing and Updating pandas and IPython Notebook"
   ]
  },
  {
   "cell_type": "markdown",
   "metadata": {},
   "source": [
    "{a sentence or two about the setup and how we are assuming you are using pandas through IPython Notebook}"
   ]
  },
  {
   "cell_type": "markdown",
   "metadata": {},
   "source": [
    "# Installing pandas"
   ]
  },
  {
   "cell_type": "markdown",
   "metadata": {},
   "source": [
    "The easiest way to install pandas is by using [Anaconda](https://store.continuum.io/cshop/anaconda/), a package that gives you not only pandas but also a bunch of other libraries you will almost certainly end up needing."
   ]
  },
  {
   "cell_type": "markdown",
   "metadata": {},
   "source": [
    "{NOTE: need to put in info about how to run IPython Notebook as well as how to install it}"
   ]
  },
  {
   "cell_type": "markdown",
   "metadata": {},
   "source": [
    "## Updating pandas"
   ]
  },
  {
   "cell_type": "markdown",
   "metadata": {},
   "source": [
    "pandas gets updated every few months. If you need to upgrade to the newest version of pandas, open up the Anaconda MS-DOS batch file {go back and check to see what it's actually called} and type in the following:\n",
    "\n",
    "\n",
    "conda update conda\n",
    "\n",
    "and follow the instructions.\n",
    "\n",
    "Then run the following:\n",
    "\n",
    "conda update pandas\n"
   ]
  },
  {
   "cell_type": "code",
   "execution_count": null,
   "metadata": {},
   "outputs": [],
   "source": []
  }
 ],
 "metadata": {
  "kernelspec": {
   "display_name": "Python 3",
   "language": "python",
   "name": "python3"
  },
  "language_info": {
   "codemirror_mode": {
    "name": "ipython",
    "version": 3
   },
   "file_extension": ".py",
   "mimetype": "text/x-python",
   "name": "python",
   "nbconvert_exporter": "python",
   "pygments_lexer": "ipython3",
   "version": "3.7.4"
  }
 },
 "nbformat": 4,
 "nbformat_minor": 1
}
