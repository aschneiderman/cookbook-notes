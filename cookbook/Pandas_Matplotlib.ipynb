{
 "cells": [
  {
   "cell_type": "markdown",
   "metadata": {},
   "source": [
    "# matplotlib"
   ]
  },
  {
   "cell_type": "markdown",
   "metadata": {},
   "source": [
    "matplotlib is Pandas' graphics workhorse.  If you want to quickly visualize your data, it's where you want to start.\n",
    "\n",
    "(links within the page)"
   ]
  },
  {
   "cell_type": "markdown",
   "metadata": {},
   "source": [
    "## Getting Started"
   ]
  },
  {
   "cell_type": "markdown",
   "metadata": {},
   "source": [
    "To start using matplotlib, put this code at the beginning of your notebook:"
   ]
  },
  {
   "cell_type": "code",
   "execution_count": null,
   "metadata": {},
   "outputs": [],
   "source": [
    "import pandas as pd\n",
    "import matplotlib.pyplot as plt\n",
    "\n",
    "# do some magic behind the scenes to put the graphs in the page (\"inline\")\n",
    "%matplotlib inline"
   ]
  },
  {
   "cell_type": "markdown",
   "metadata": {},
   "source": [
    "## Bar Charts"
   ]
  },
  {
   "cell_type": "markdown",
   "metadata": {},
   "source": [
    "To create a simple bar chart:"
   ]
  },
  {
   "cell_type": "code",
   "execution_count": null,
   "metadata": {},
   "outputs": [],
   "source": [
    "campaigns.plot(x='Google Tracking Code', y='Visits', kind='bar', title='Number of Visitors')"
   ]
  },
  {
   "cell_type": "markdown",
   "metadata": {},
   "source": [
    "To create a horizontal bar chart:"
   ]
  },
  {
   "cell_type": "code",
   "execution_count": null,
   "metadata": {},
   "outputs": [],
   "source": [
    "campaigns.plot(x='Google Tracking Code', y='Visits', kind='barh', title='Revenue Generated', color='purple')"
   ]
  },
  {
   "cell_type": "markdown",
   "metadata": {},
   "source": [
    "In a few circumstances, you can let pandas figure out the fields for x and y.  For example, if you wanted to create a horizontal bar chart of the top 10, matplotlib figures out that the column you chose is x and the frequency counts are y:"
   ]
  },
  {
   "cell_type": "code",
   "execution_count": null,
   "metadata": {},
   "outputs": [],
   "source": [
    "job_metrics.['User'].value_counts()[:10].plot(kind = 'barh', title= 'Number of Jobs Created by User')"
   ]
  },
  {
   "cell_type": "markdown",
   "metadata": {},
   "source": [
    "## Tutorials  And Other Links"
   ]
  },
  {
   "cell_type": "markdown",
   "metadata": {},
   "source": [
    "- pandas' documentation on the [plot command](http://pandas.pydata.org/pandas-docs/stable/generated/pandas.DataFrame.plot.html) and [bar charts](http://pandas.pydata.org/pandas-docs/stable/visualization.html#bar-plots)\n",
    "\n",
    "- John Hunter's talk on [matplotlib's advanced features](http://m.youtube.com/watch?v=DNRJwENqEUY)\n",
    "- [Comma separated numbers](http://matplotlib.1069221.n5.nabble.com/Format-y-axis-tick-labels-in-comma-notation-ie-234004-would-be-234-004-etc-td25764.html)\n",
    "- [subplots](http://matplotlib.org/examples/pylab_examples/subplots_demo.html)\n",
    "- [bubble charts](http://pythonjp.wordpress.com/2013/12/15/bubble-chart-with-matplotlib)\n",
    "- Plotting [tutorial](http://nbviewer.ipython.org/urls/gist.github.com/fonnesbeck/5850463/raw/a29d9ffb863bfab09ff6c1fc853e1d5bf69fe3e4/3.+Plotting+and+Visualization.ipynb)\n",
    "- [posts](https://triangleinequality.wordpress.com/tag/matplotlib/) on matplotlib\n",
    "- Another [tutorial](http://nbviewer.ipython.org/github/cs109/content/blob/master/lec_03_statistical_graphs.ipynb)\n",
    "- [cheat sheet (?)](http://markthegraph.blogspot.com/2014/01/pandas-dataframe-cheat-sheet-and-python.html)\n",
    "- Plotting using [XKCD](http://nbviewer.ipython.org/url/jakevdp.github.com/downloads/notebooks/XKCD_plots.ipynb)'s [font](http://jakevdp.github.io/blog/2013/07/10/XKCD-plots-in-matplotlib/)"
   ]
  }
 ],
 "metadata": {
  "kernelspec": {
   "display_name": "Python 3",
   "language": "python",
   "name": "python3"
  },
  "language_info": {
   "codemirror_mode": {
    "name": "ipython",
    "version": 3
   },
   "file_extension": ".py",
   "mimetype": "text/x-python",
   "name": "python",
   "nbconvert_exporter": "python",
   "pygments_lexer": "ipython3",
   "version": "3.7.4"
  }
 },
 "nbformat": 4,
 "nbformat_minor": 1
}
