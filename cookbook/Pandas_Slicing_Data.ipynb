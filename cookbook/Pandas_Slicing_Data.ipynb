{
 "cells": [
  {
   "cell_type": "markdown",
   "metadata": {},
   "source": [
    "# Selecting and Slicing Data"
   ]
  },
  {
   "cell_type": "markdown",
   "metadata": {},
   "source": [
    "- Selecting by [rows](#Selecting-Rows) And [columns](#Selecting-Columns)\n",
    "- Selecting by [criteria](#Selecting-Rows-By-Criteria)\n",
    "- [Frequency counts](#Frequency-Counts)\n",
    "- [Top 10](#Top-10-Most-Frequent-Values)\n",
    "- Pivot tables\n",
    "- [Turning columns into rows](#Melt) using melt\n",
    "- Other ways of aggregating data"
   ]
  },
  {
   "cell_type": "markdown",
   "metadata": {},
   "source": [
    "## Selecting Columns"
   ]
  },
  {
   "cell_type": "markdown",
   "metadata": {},
   "source": [
    "There are a number of ways you can  select columns; we'll cover the 2 most common. You can put the name of the column in brackets and single quotes:"
   ]
  },
  {
   "cell_type": "code",
   "execution_count": null,
   "metadata": {},
   "outputs": [],
   "source": [
    "members['Member Status']"
   ]
  },
  {
   "cell_type": "markdown",
   "metadata": {},
   "source": [
    "or you can use  dot notation:"
   ]
  },
  {
   "cell_type": "code",
   "execution_count": null,
   "metadata": {},
   "outputs": [],
   "source": [
    "members.Gender"
   ]
  },
  {
   "cell_type": "markdown",
   "metadata": {},
   "source": [
    "The advantage of using dot notation is that you can use tab completion with it. \n",
    "\n",
    "To select several columns, give Pandas a list of the columns you want in brackets:"
   ]
  },
  {
   "cell_type": "code",
   "execution_count": null,
   "metadata": {},
   "outputs": [],
   "source": [
    "members[['Member Status','Gender']]"
   ]
  },
  {
   "cell_type": "markdown",
   "metadata": {},
   "source": [
    "You can also select columns and rows at the same time."
   ]
  },
  {
   "cell_type": "markdown",
   "metadata": {},
   "source": [
    "## Selecting Rows By Number"
   ]
  },
  {
   "cell_type": "markdown",
   "metadata": {},
   "source": [
    "For example, if you want the first 10 rows:"
   ]
  },
  {
   "cell_type": "code",
   "execution_count": null,
   "metadata": {},
   "outputs": [],
   "source": [
    "pastries[:10]"
   ]
  },
  {
   "cell_type": "markdown",
   "metadata": {},
   "source": [
    "You can also select rows and columns at the same time. If you want the member status and gender for the first 10 rows:"
   ]
  },
  {
   "cell_type": "code",
   "execution_count": null,
   "metadata": {},
   "outputs": [],
   "source": [
    "members[['Member Status','Gender']][:10]"
   ]
  },
  {
   "cell_type": "markdown",
   "metadata": {},
   "source": [
    "## Selecting Rows By Criteria"
   ]
  },
  {
   "cell_type": "markdown",
   "metadata": {},
   "source": [
    "Pandas  also allows you to select  rooms using criteria. For example, to get every row where a family owns their home:"
   ]
  },
  {
   "cell_type": "code",
   "execution_count": null,
   "metadata": {},
   "outputs": [],
   "source": [
    "housing[ housing['Type'] == \"Owner\"]"
   ]
  },
  {
   "cell_type": "markdown",
   "metadata": {},
   "source": [
    "To get every purchase of less than $10:"
   ]
  },
  {
   "cell_type": "code",
   "execution_count": null,
   "metadata": {},
   "outputs": [],
   "source": [
    "purchases[purchases['Price'] < 10]"
   ]
  },
  {
   "cell_type": "markdown",
   "metadata": {},
   "source": [
    "You can also use & for AND and | for OR. For example, to get every family who owns their home and has more than three members:"
   ]
  },
  {
   "cell_type": "code",
   "execution_count": null,
   "metadata": {},
   "outputs": [],
   "source": [
    "housing[ housing['Type'] == \"Owner\" & housing['Household Members'] > 3 ]"
   ]
  },
  {
   "cell_type": "markdown",
   "metadata": {},
   "source": [
    "## Frequency Counts"
   ]
  },
  {
   "cell_type": "markdown",
   "metadata": {},
   "source": [
    "Use value_counts() to get a breakdown by a variable. For example, to find out how many of each type of pastry was purchased, from highest to lowest number purchased:"
   ]
  },
  {
   "cell_type": "code",
   "execution_count": null,
   "metadata": {},
   "outputs": [],
   "source": [
    "pastries['Type'].value_counts()"
   ]
  },
  {
   "cell_type": "markdown",
   "metadata": {},
   "source": [
    "## Top 10 Most Frequent Values"
   ]
  },
  {
   "cell_type": "markdown",
   "metadata": {},
   "source": [
    "To get the top 10, top 20, etc., use value_counts. Since value_counts returns the frequency count in order from largest to smallest, all you need to do is grab the number of rows you want. For example, to get the top 10 most frequently purchased type of pastries:"
   ]
  },
  {
   "cell_type": "code",
   "execution_count": null,
   "metadata": {},
   "outputs": [],
   "source": [
    "pastries['Type'].value_counts()[:10]"
   ]
  },
  {
   "cell_type": "markdown",
   "metadata": {},
   "source": [
    "If you want to plot the top 5 on a horizontal bar chart using matplotlib:"
   ]
  },
  {
   "cell_type": "code",
   "execution_count": null,
   "metadata": {},
   "outputs": [],
   "source": [
    "pastries['Type'].value_counts()[:5].plot(kind='barh', title='Top 10 Pastries')"
   ]
  },
  {
   "cell_type": "markdown",
   "metadata": {},
   "source": [
    "matplotlib automatically figures out that you want to make the column \"Type\" as the x axis and the frequency counts as the y axis."
   ]
  },
  {
   "cell_type": "markdown",
   "metadata": {},
   "source": [
    "## Turning Columns into Rows Using Melt"
   ]
  },
  {
   "cell_type": "markdown",
   "metadata": {},
   "source": [
    "Suppose you have data on meat purchases over time (one of the sample DataFrames in ggplot):"
   ]
  },
  {
   "cell_type": "code",
   "execution_count": 1,
   "metadata": {},
   "outputs": [],
   "source": [
    "from ggplot import *\n",
    "meat"
   ]
  },
  {
   "cell_type": "markdown",
   "metadata": {},
   "source": [
    "To convert some of the columns of meat purchases into rows:"
   ]
  },
  {
   "cell_type": "code",
   "execution_count": 3,
   "metadata": {},
   "outputs": [
    {
     "data": {
      "text/html": [
       "<div style=\"max-height:1000px;max-width:1500px;overflow:auto;\">\n",
       "<table border=\"1\" class=\"dataframe\">\n",
       "  <thead>\n",
       "    <tr style=\"text-align: right;\">\n",
       "      <th></th>\n",
       "      <th>date</th>\n",
       "      <th>meat_type</th>\n",
       "      <th>value</th>\n",
       "    </tr>\n",
       "  </thead>\n",
       "  <tbody>\n",
       "    <tr>\n",
       "      <th>0 </th>\n",
       "      <td>1944-01-01</td>\n",
       "      <td> beef</td>\n",
       "      <td>  751</td>\n",
       "    </tr>\n",
       "    <tr>\n",
       "      <th>1 </th>\n",
       "      <td>1944-02-01</td>\n",
       "      <td> beef</td>\n",
       "      <td>  713</td>\n",
       "    </tr>\n",
       "    <tr>\n",
       "      <th>2 </th>\n",
       "      <td>1944-03-01</td>\n",
       "      <td> beef</td>\n",
       "      <td>  741</td>\n",
       "    </tr>\n",
       "    <tr>\n",
       "      <th>3 </th>\n",
       "      <td>1944-04-01</td>\n",
       "      <td> beef</td>\n",
       "      <td>  650</td>\n",
       "    </tr>\n",
       "    <tr>\n",
       "      <th>4 </th>\n",
       "      <td>1944-05-01</td>\n",
       "      <td> beef</td>\n",
       "      <td>  681</td>\n",
       "    </tr>\n",
       "    <tr>\n",
       "      <th>5 </th>\n",
       "      <td>1944-06-01</td>\n",
       "      <td> beef</td>\n",
       "      <td>  658</td>\n",
       "    </tr>\n",
       "    <tr>\n",
       "      <th>6 </th>\n",
       "      <td>1944-07-01</td>\n",
       "      <td> beef</td>\n",
       "      <td>  662</td>\n",
       "    </tr>\n",
       "    <tr>\n",
       "      <th>7 </th>\n",
       "      <td>1944-08-01</td>\n",
       "      <td> beef</td>\n",
       "      <td>  787</td>\n",
       "    </tr>\n",
       "    <tr>\n",
       "      <th>8 </th>\n",
       "      <td>1944-09-01</td>\n",
       "      <td> beef</td>\n",
       "      <td>  774</td>\n",
       "    </tr>\n",
       "    <tr>\n",
       "      <th>9 </th>\n",
       "      <td>1944-10-01</td>\n",
       "      <td> beef</td>\n",
       "      <td>  834</td>\n",
       "    </tr>\n",
       "    <tr>\n",
       "      <th>10</th>\n",
       "      <td>1944-11-01</td>\n",
       "      <td> beef</td>\n",
       "      <td>  786</td>\n",
       "    </tr>\n",
       "    <tr>\n",
       "      <th>11</th>\n",
       "      <td>1944-12-01</td>\n",
       "      <td> beef</td>\n",
       "      <td>  764</td>\n",
       "    </tr>\n",
       "    <tr>\n",
       "      <th>12</th>\n",
       "      <td>1945-01-01</td>\n",
       "      <td> beef</td>\n",
       "      <td>  820</td>\n",
       "    </tr>\n",
       "    <tr>\n",
       "      <th>13</th>\n",
       "      <td>1945-02-01</td>\n",
       "      <td> beef</td>\n",
       "      <td>  816</td>\n",
       "    </tr>\n",
       "    <tr>\n",
       "      <th>14</th>\n",
       "      <td>1945-03-01</td>\n",
       "      <td> beef</td>\n",
       "      <td>  836</td>\n",
       "    </tr>\n",
       "    <tr>\n",
       "      <th>15</th>\n",
       "      <td>1945-04-01</td>\n",
       "      <td> beef</td>\n",
       "      <td>  736</td>\n",
       "    </tr>\n",
       "    <tr>\n",
       "      <th>16</th>\n",
       "      <td>1945-05-01</td>\n",
       "      <td> beef</td>\n",
       "      <td>  747</td>\n",
       "    </tr>\n",
       "    <tr>\n",
       "      <th>17</th>\n",
       "      <td>1945-06-01</td>\n",
       "      <td> beef</td>\n",
       "      <td>  739</td>\n",
       "    </tr>\n",
       "    <tr>\n",
       "      <th>18</th>\n",
       "      <td>1945-07-01</td>\n",
       "      <td> beef</td>\n",
       "      <td>  736</td>\n",
       "    </tr>\n",
       "    <tr>\n",
       "      <th>19</th>\n",
       "      <td>1945-08-01</td>\n",
       "      <td> beef</td>\n",
       "      <td>  858</td>\n",
       "    </tr>\n",
       "    <tr>\n",
       "      <th>20</th>\n",
       "      <td>1945-09-01</td>\n",
       "      <td> beef</td>\n",
       "      <td>  910</td>\n",
       "    </tr>\n",
       "    <tr>\n",
       "      <th>21</th>\n",
       "      <td>1945-10-01</td>\n",
       "      <td> beef</td>\n",
       "      <td> 1022</td>\n",
       "    </tr>\n",
       "    <tr>\n",
       "      <th>22</th>\n",
       "      <td>1945-11-01</td>\n",
       "      <td> beef</td>\n",
       "      <td>  933</td>\n",
       "    </tr>\n",
       "    <tr>\n",
       "      <th>23</th>\n",
       "      <td>1945-12-01</td>\n",
       "      <td> beef</td>\n",
       "      <td>  783</td>\n",
       "    </tr>\n",
       "    <tr>\n",
       "      <th>24</th>\n",
       "      <td>1946-01-01</td>\n",
       "      <td> beef</td>\n",
       "      <td>  856</td>\n",
       "    </tr>\n",
       "    <tr>\n",
       "      <th>25</th>\n",
       "      <td>1946-02-01</td>\n",
       "      <td> beef</td>\n",
       "      <td>  827</td>\n",
       "    </tr>\n",
       "    <tr>\n",
       "      <th>26</th>\n",
       "      <td>1946-03-01</td>\n",
       "      <td> beef</td>\n",
       "      <td>  796</td>\n",
       "    </tr>\n",
       "    <tr>\n",
       "      <th>27</th>\n",
       "      <td>1946-04-01</td>\n",
       "      <td> beef</td>\n",
       "      <td>  734</td>\n",
       "    </tr>\n",
       "    <tr>\n",
       "      <th>28</th>\n",
       "      <td>1946-05-01</td>\n",
       "      <td> beef</td>\n",
       "      <td>  605</td>\n",
       "    </tr>\n",
       "    <tr>\n",
       "      <th>29</th>\n",
       "      <td>1946-06-01</td>\n",
       "      <td> beef</td>\n",
       "      <td>  461</td>\n",
       "    </tr>\n",
       "    <tr>\n",
       "      <th>30</th>\n",
       "      <td>1946-07-01</td>\n",
       "      <td> beef</td>\n",
       "      <td>  954</td>\n",
       "    </tr>\n",
       "    <tr>\n",
       "      <th>31</th>\n",
       "      <td>1946-08-01</td>\n",
       "      <td> beef</td>\n",
       "      <td>  871</td>\n",
       "    </tr>\n",
       "    <tr>\n",
       "      <th>32</th>\n",
       "      <td>1946-09-01</td>\n",
       "      <td> beef</td>\n",
       "      <td>  366</td>\n",
       "    </tr>\n",
       "    <tr>\n",
       "      <th>33</th>\n",
       "      <td>1946-10-01</td>\n",
       "      <td> beef</td>\n",
       "      <td>  840</td>\n",
       "    </tr>\n",
       "    <tr>\n",
       "      <th>34</th>\n",
       "      <td>1946-11-01</td>\n",
       "      <td> beef</td>\n",
       "      <td>  844</td>\n",
       "    </tr>\n",
       "    <tr>\n",
       "      <th>35</th>\n",
       "      <td>1946-12-01</td>\n",
       "      <td> beef</td>\n",
       "      <td>  856</td>\n",
       "    </tr>\n",
       "    <tr>\n",
       "      <th>36</th>\n",
       "      <td>1947-01-01</td>\n",
       "      <td> beef</td>\n",
       "      <td>  935</td>\n",
       "    </tr>\n",
       "    <tr>\n",
       "      <th>37</th>\n",
       "      <td>1947-02-01</td>\n",
       "      <td> beef</td>\n",
       "      <td>  778</td>\n",
       "    </tr>\n",
       "    <tr>\n",
       "      <th>38</th>\n",
       "      <td>1947-03-01</td>\n",
       "      <td> beef</td>\n",
       "      <td>  829</td>\n",
       "    </tr>\n",
       "    <tr>\n",
       "      <th>39</th>\n",
       "      <td>1947-04-01</td>\n",
       "      <td> beef</td>\n",
       "      <td>  831</td>\n",
       "    </tr>\n",
       "    <tr>\n",
       "      <th>40</th>\n",
       "      <td>1947-05-01</td>\n",
       "      <td> beef</td>\n",
       "      <td>  846</td>\n",
       "    </tr>\n",
       "    <tr>\n",
       "      <th>41</th>\n",
       "      <td>1947-06-01</td>\n",
       "      <td> beef</td>\n",
       "      <td>  804</td>\n",
       "    </tr>\n",
       "    <tr>\n",
       "      <th>42</th>\n",
       "      <td>1947-07-01</td>\n",
       "      <td> beef</td>\n",
       "      <td>  839</td>\n",
       "    </tr>\n",
       "    <tr>\n",
       "      <th>43</th>\n",
       "      <td>1947-08-01</td>\n",
       "      <td> beef</td>\n",
       "      <td>  766</td>\n",
       "    </tr>\n",
       "    <tr>\n",
       "      <th>44</th>\n",
       "      <td>1947-09-01</td>\n",
       "      <td> beef</td>\n",
       "      <td>  888</td>\n",
       "    </tr>\n",
       "    <tr>\n",
       "      <th>45</th>\n",
       "      <td>1947-10-01</td>\n",
       "      <td> beef</td>\n",
       "      <td>  924</td>\n",
       "    </tr>\n",
       "    <tr>\n",
       "      <th>46</th>\n",
       "      <td>1947-11-01</td>\n",
       "      <td> beef</td>\n",
       "      <td>  813</td>\n",
       "    </tr>\n",
       "    <tr>\n",
       "      <th>47</th>\n",
       "      <td>1947-12-01</td>\n",
       "      <td> beef</td>\n",
       "      <td>  843</td>\n",
       "    </tr>\n",
       "    <tr>\n",
       "      <th>48</th>\n",
       "      <td>1948-01-01</td>\n",
       "      <td> beef</td>\n",
       "      <td>  856</td>\n",
       "    </tr>\n",
       "    <tr>\n",
       "      <th>49</th>\n",
       "      <td>1948-02-01</td>\n",
       "      <td> beef</td>\n",
       "      <td>  662</td>\n",
       "    </tr>\n",
       "    <tr>\n",
       "      <th>50</th>\n",
       "      <td>1948-03-01</td>\n",
       "      <td> beef</td>\n",
       "      <td>  727</td>\n",
       "    </tr>\n",
       "    <tr>\n",
       "      <th>51</th>\n",
       "      <td>1948-04-01</td>\n",
       "      <td> beef</td>\n",
       "      <td>  700</td>\n",
       "    </tr>\n",
       "    <tr>\n",
       "      <th>52</th>\n",
       "      <td>1948-05-01</td>\n",
       "      <td> beef</td>\n",
       "      <td>  650</td>\n",
       "    </tr>\n",
       "    <tr>\n",
       "      <th>53</th>\n",
       "      <td>1948-06-01</td>\n",
       "      <td> beef</td>\n",
       "      <td>  733</td>\n",
       "    </tr>\n",
       "    <tr>\n",
       "      <th>54</th>\n",
       "      <td>1948-07-01</td>\n",
       "      <td> beef</td>\n",
       "      <td>  681</td>\n",
       "    </tr>\n",
       "    <tr>\n",
       "      <th>55</th>\n",
       "      <td>1948-08-01</td>\n",
       "      <td> beef</td>\n",
       "      <td>  705</td>\n",
       "    </tr>\n",
       "    <tr>\n",
       "      <th>56</th>\n",
       "      <td>1948-09-01</td>\n",
       "      <td> beef</td>\n",
       "      <td>  773</td>\n",
       "    </tr>\n",
       "    <tr>\n",
       "      <th>57</th>\n",
       "      <td>1948-10-01</td>\n",
       "      <td> beef</td>\n",
       "      <td>  752</td>\n",
       "    </tr>\n",
       "    <tr>\n",
       "      <th>58</th>\n",
       "      <td>1948-11-01</td>\n",
       "      <td> beef</td>\n",
       "      <td>  744</td>\n",
       "    </tr>\n",
       "    <tr>\n",
       "      <th>59</th>\n",
       "      <td>1948-12-01</td>\n",
       "      <td> beef</td>\n",
       "      <td>  783</td>\n",
       "    </tr>\n",
       "    <tr>\n",
       "      <th></th>\n",
       "      <td>...</td>\n",
       "      <td>...</td>\n",
       "      <td>...</td>\n",
       "    </tr>\n",
       "  </tbody>\n",
       "</table>\n",
       "<p>2481 rows × 3 columns</p>\n",
       "</div>"
      ],
      "text/plain": [
       "         date meat_type  value\n",
       "0  1944-01-01      beef    751\n",
       "1  1944-02-01      beef    713\n",
       "2  1944-03-01      beef    741\n",
       "3  1944-04-01      beef    650\n",
       "4  1944-05-01      beef    681\n",
       "5  1944-06-01      beef    658\n",
       "6  1944-07-01      beef    662\n",
       "7  1944-08-01      beef    787\n",
       "8  1944-09-01      beef    774\n",
       "9  1944-10-01      beef    834\n",
       "10 1944-11-01      beef    786\n",
       "11 1944-12-01      beef    764\n",
       "12 1945-01-01      beef    820\n",
       "13 1945-02-01      beef    816\n",
       "14 1945-03-01      beef    836\n",
       "15 1945-04-01      beef    736\n",
       "16 1945-05-01      beef    747\n",
       "17 1945-06-01      beef    739\n",
       "18 1945-07-01      beef    736\n",
       "19 1945-08-01      beef    858\n",
       "20 1945-09-01      beef    910\n",
       "21 1945-10-01      beef   1022\n",
       "22 1945-11-01      beef    933\n",
       "23 1945-12-01      beef    783\n",
       "24 1946-01-01      beef    856\n",
       "25 1946-02-01      beef    827\n",
       "26 1946-03-01      beef    796\n",
       "27 1946-04-01      beef    734\n",
       "28 1946-05-01      beef    605\n",
       "29 1946-06-01      beef    461\n",
       "30 1946-07-01      beef    954\n",
       "31 1946-08-01      beef    871\n",
       "32 1946-09-01      beef    366\n",
       "33 1946-10-01      beef    840\n",
       "34 1946-11-01      beef    844\n",
       "35 1946-12-01      beef    856\n",
       "36 1947-01-01      beef    935\n",
       "37 1947-02-01      beef    778\n",
       "38 1947-03-01      beef    829\n",
       "39 1947-04-01      beef    831\n",
       "40 1947-05-01      beef    846\n",
       "41 1947-06-01      beef    804\n",
       "42 1947-07-01      beef    839\n",
       "43 1947-08-01      beef    766\n",
       "44 1947-09-01      beef    888\n",
       "45 1947-10-01      beef    924\n",
       "46 1947-11-01      beef    813\n",
       "47 1947-12-01      beef    843\n",
       "48 1948-01-01      beef    856\n",
       "49 1948-02-01      beef    662\n",
       "50 1948-03-01      beef    727\n",
       "51 1948-04-01      beef    700\n",
       "52 1948-05-01      beef    650\n",
       "53 1948-06-01      beef    733\n",
       "54 1948-07-01      beef    681\n",
       "55 1948-08-01      beef    705\n",
       "56 1948-09-01      beef    773\n",
       "57 1948-10-01      beef    752\n",
       "58 1948-11-01      beef    744\n",
       "59 1948-12-01      beef    783\n",
       "          ...       ...    ...\n",
       "\n",
       "[2481 rows x 3 columns]"
      ]
     },
     "execution_count": 3,
     "metadata": {},
     "output_type": "execute_result"
    }
   ],
   "source": [
    "meat_long = pd.melt(meat[['date', 'beef', 'pork', 'broilers']], id_vars='date', var_name='meat_type')\n",
    "meat_long"
   ]
  },
  {
   "cell_type": "code",
   "execution_count": null,
   "metadata": {},
   "outputs": [],
   "source": []
  }
 ],
 "metadata": {
  "kernelspec": {
   "display_name": "Python 3",
   "language": "python",
   "name": "python3"
  },
  "language_info": {
   "codemirror_mode": {
    "name": "ipython",
    "version": 3
   },
   "file_extension": ".py",
   "mimetype": "text/x-python",
   "name": "python",
   "nbconvert_exporter": "python",
   "pygments_lexer": "ipython3",
   "version": "3.7.4"
  }
 },
 "nbformat": 4,
 "nbformat_minor": 1
}
