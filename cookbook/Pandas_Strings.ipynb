{
 "cells": [
  {
   "cell_type": "markdown",
   "metadata": {},
   "source": [
    "# Strings"
   ]
  },
  {
   "cell_type": "markdown",
   "metadata": {},
   "source": [
    "{ Once I've got more recipies, put in links using this format:\n",
    "- [Renaming Columns](#Renaming-Columns)\n",
    "- [Deleting Columns](#Deleting-Columns)\n",
    "- Dropping Rows with [Missing Values](#Dropping-Rows-with-Missing-Values)\n",
    "- [Filtering Rows](#Filtering-Rows)\n",
    "}"
   ]
  },
  {
   "cell_type": "markdown",
   "metadata": {},
   "source": [
    "# If Strings are Too Long to View"
   ]
  },
  {
   "cell_type": "markdown",
   "metadata": {},
   "source": [
    "If you've got strings in your DataFrame that are very long, when you try to display them pandas will truncate them.  \n",
    "Most of the time that's a good thing.  But if you need to see what's in those strings -- e.g., you are trying to extract\n",
    "date from them or clean them up -- that's not going to work.  To  see the full strings, set pandas' display width \n",
    "and max column length.  For example, if most of the strings are under 150 characters, use this:"
   ]
  },
  {
   "cell_type": "code",
   "execution_count": null,
   "metadata": {},
   "outputs": [],
   "source": [
    "pd.set_option('display.width', 1000) \n",
    "pd.set_option('display.max_colwidth', 150)"
   ]
  }
 ],
 "metadata": {
  "kernelspec": {
   "display_name": "Python 3",
   "language": "python",
   "name": "python3"
  },
  "language_info": {
   "codemirror_mode": {
    "name": "ipython",
    "version": 3
   },
   "file_extension": ".py",
   "mimetype": "text/x-python",
   "name": "python",
   "nbconvert_exporter": "python",
   "pygments_lexer": "ipython3",
   "version": "3.7.4"
  }
 },
 "nbformat": 4,
 "nbformat_minor": 1
}
