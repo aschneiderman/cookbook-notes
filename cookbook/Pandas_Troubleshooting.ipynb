{
 "cells": [
  {
   "cell_type": "markdown",
   "id": "7909db95",
   "metadata": {},
   "source": [
    "# Troubleshooting Pandas"
   ]
  },
  {
   "cell_type": "markdown",
   "id": "218d3c31",
   "metadata": {},
   "source": [
    "Most cookbook sections have one or more parts on troubleshooting. This page is for overall advice on how to troubleshoot  problems."
   ]
  },
  {
   "cell_type": "markdown",
   "id": "b7435457",
   "metadata": {},
   "source": [
    "## Nothing's Happening"
   ]
  },
  {
   "cell_type": "markdown",
   "id": "c6909f41",
   "metadata": {},
   "source": [
    "If you try running a cell and nothing happens, the first thing to check is how much data you're handling. If you are running a lot of programs and/or you have an older box and you try to do something to 800,000 rows of data, it may seem like nothing's happening even though your IPython Notebook is chugging away. There's a simple way to test if this is the problem: reduce the amount of data you are dealing with.\n",
    "\n",
    "For example, if you have a DataFrame called meh_data you're trying to manipulate where nothing seems to be happening, do this:"
   ]
  },
  {
   "cell_type": "code",
   "execution_count": null,
   "id": "dd4fcb50",
   "metadata": {},
   "outputs": [],
   "source": [
    "little_meh = meh_data[:20]"
   ]
  },
  {
   "cell_type": "markdown",
   "id": "53491c36",
   "metadata": {},
   "source": [
    "Then try using little_meh to do whatever operation was causing the problem and see if you get a result."
   ]
  },
  {
   "cell_type": "code",
   "execution_count": null,
   "id": "8094ef0b",
   "metadata": {},
   "outputs": [],
   "source": []
  }
 ],
 "metadata": {
  "kernelspec": {
   "display_name": "Python 3",
   "language": "python",
   "name": "python3"
  },
  "language_info": {
   "codemirror_mode": {
    "name": "ipython",
    "version": 3
   },
   "file_extension": ".py",
   "mimetype": "text/x-python",
   "name": "python",
   "nbconvert_exporter": "python",
   "pygments_lexer": "ipython3",
   "version": "3.8.8"
  }
 },
 "nbformat": 4,
 "nbformat_minor": 1
}
