{
 "cells": [
  {
   "cell_type": "markdown",
   "id": "087b41f6",
   "metadata": {},
   "source": [
    "# Twitter Bootstrap: The Engine behind Styling IPython Notebook Widgets"
   ]
  },
  {
   "cell_type": "markdown",
   "id": "190a49bc",
   "metadata": {},
   "source": [
    "There are a lot of simple things you can do to make IPython Notebook widgets look better. But if you want a lot of control over  the layout, formatting, etc., you'll need to learn a little about Twitter Bootstrap.\n",
    "\n",
    "One of the very smart things that the IPython Notebook folks did is that rather than reinvent the wheel, wherever possible they built out IPython Notebook using already existing, powerful open source tools. A good example of this is their use of Twitter Bootstrap.\n",
    "\n",
    "{Say more, briefly}"
   ]
  },
  {
   "cell_type": "markdown",
   "id": "41562aef",
   "metadata": {},
   "source": [
    "## Some Useful  Links"
   ]
  },
  {
   "cell_type": "markdown",
   "id": "3eaa1910",
   "metadata": {},
   "source": [
    "- Some interesting examples of [widgets and CSS code](http://nbviewer.ipython.org/gist/anonymous/840b5cec9e19f3e39090) "
   ]
  }
 ],
 "metadata": {
  "kernelspec": {
   "display_name": "Python 3",
   "language": "python",
   "name": "python3"
  },
  "language_info": {
   "codemirror_mode": {
    "name": "ipython",
    "version": 3
   },
   "file_extension": ".py",
   "mimetype": "text/x-python",
   "name": "python",
   "nbconvert_exporter": "python",
   "pygments_lexer": "ipython3",
   "version": "3.8.8"
  }
 },
 "nbformat": 4,
 "nbformat_minor": 1
}
